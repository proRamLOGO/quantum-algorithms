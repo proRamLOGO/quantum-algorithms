{
 "cells": [
  {
   "cell_type": "markdown",
   "id": "af1f6f85",
   "metadata": {},
   "source": [
    "#  Qiskit Super Dense Coding"
   ]
  },
  {
   "cell_type": "code",
   "execution_count": 1,
   "id": "9b19a733",
   "metadata": {},
   "outputs": [],
   "source": [
    "import qiskit\n",
    "import numpy as np\n",
    "from qiskit import execute, Aer, QuantumCircuit, ClassicalRegister, QuantumRegister, BasicAer\n",
    "from qiskit.visualization import plot_bloch_multivector\n",
    "from qiskit.visualization import plot_state_city\n",
    "from qiskit.visualization import plot_state_qsphere\n",
    "from qiskit.visualization import plot_histogram\n",
    "from math import pi, sqrt"
   ]
  },
  {
   "cell_type": "code",
   "execution_count": 17,
   "id": "d3fda1c9",
   "metadata": {},
   "outputs": [
    {
     "data": {
      "image/png": "[encoded data removed]",
      "text/plain": [
       "<Figure size 206.852x144.48 with 1 Axes>"
      ]
     },
     "execution_count": 17,
     "metadata": {},
     "output_type": "execute_result"
    }
   ],
   "source": [
    "qc = QuantumCircuit(2)\n",
    "qc.x(0)\n",
    "qc.cy(0,1)\n",
    "qc.draw('mpl')"
   ]
  },
  {
   "cell_type": "code",
   "execution_count": 18,
   "id": "dd858677",
   "metadata": {},
   "outputs": [],
   "source": [
    "qc.measure_all()"
   ]
  },
  {
   "cell_type": "code",
   "execution_count": 19,
   "id": "91db67b4",
   "metadata": {},
   "outputs": [],
   "source": [
    "backend = Aer.get_backend('qasm_simulator')\n",
    "job = execute(qc,backend,shots=1000)\n",
    "result = job.result()\n",
    "counts = result.get_counts()"
   ]
  },
  {
   "cell_type": "code",
   "execution_count": 20,
   "id": "8e2ab755",
   "metadata": {},
   "outputs": [
    {
     "name": "stdout",
     "output_type": "stream",
     "text": [
      "\n",
      "Total count are:\n",
      " {'11': 1000}\n"
     ]
    },
    {
     "name": "stderr",
     "output_type": "stream",
     "text": [
      "C:\\Anaconda_py\\lib\\site-packages\\qiskit\\visualization\\counts_visualization.py:181: MatplotlibDeprecationWarning: The label function was deprecated in Matplotlib 3.1 and will be removed in 3.8. Use Tick.label1 instead.\n",
      "  tick.label.set_fontsize(14)\n",
      "C:\\Anaconda_py\\lib\\site-packages\\qiskit\\visualization\\counts_visualization.py:181: MatplotlibDeprecationWarning: The label function was deprecated in Matplotlib 3.1 and will be removed in 3.8. Use Tick.label1 instead.\n",
      "  tick.label.set_fontsize(14)\n",
      "C:\\Anaconda_py\\lib\\site-packages\\qiskit\\visualization\\counts_visualization.py:181: MatplotlibDeprecationWarning: The label function was deprecated in Matplotlib 3.1 and will be removed in 3.8. Use Tick.label1 instead.\n",
      "  tick.label.set_fontsize(14)\n",
      "C:\\Anaconda_py\\lib\\site-packages\\qiskit\\visualization\\counts_visualization.py:181: MatplotlibDeprecationWarning: The label function was deprecated in Matplotlib 3.1 and will be removed in 3.8. Use Tick.label1 instead.\n",
      "  tick.label.set_fontsize(14)\n",
      "C:\\Anaconda_py\\lib\\site-packages\\qiskit\\visualization\\counts_visualization.py:181: MatplotlibDeprecationWarning: The label function was deprecated in Matplotlib 3.1 and will be removed in 3.8. Use Tick.label1 instead.\n",
      "  tick.label.set_fontsize(14)\n",
      "C:\\Anaconda_py\\lib\\site-packages\\qiskit\\visualization\\counts_visualization.py:181: MatplotlibDeprecationWarning: The label function was deprecated in Matplotlib 3.1 and will be removed in 3.8. Use Tick.label1 instead.\n",
      "  tick.label.set_fontsize(14)\n"
     ]
    },
    {
     "data": {
      "image/png": "[encoded data removed]",
      "text/plain": [
       "<Figure size 504x360 with 1 Axes>"
      ]
     },
     "execution_count": 20,
     "metadata": {},
     "output_type": "execute_result"
    }
   ],
   "source": [
    "print(\"\\nTotal count are:\\n\",counts)\n",
    "plot_histogram(counts)"
   ]
  },
  {
   "cell_type": "code",
   "execution_count": 12,
   "id": "ebf5f28d",
   "metadata": {},
   "outputs": [],
   "source": [
    "from qiskit.visualization import plot_circuit_layout\n",
    "from qiskit import IBMQ\n",
    "from qiskit import transpile\n",
    "backend = Aer.get_backend('qasm_simulator')"
   ]
  },
  {
   "cell_type": "code",
   "execution_count": 13,
   "id": "4b971872",
   "metadata": {},
   "outputs": [],
   "source": [
    "def create_bell_state(qc,a,b):\n",
    "    qc.h(a)\n",
    "    qc.cx(a,b)"
   ]
  },
  {
   "cell_type": "code",
   "execution_count": 14,
   "id": "0f9dfb4a",
   "metadata": {},
   "outputs": [],
   "source": [
    "def encode_alice_message(qc,qubit,msg):\n",
    "    if msg==\"00\":\n",
    "        pass\n",
    "    elif msg==\"10\":\n",
    "        qc.x(qubit)\n",
    "    elif msg==\"01\":\n",
    "        qc.z(qubit)\n",
    "    elif msg==\"11\":\n",
    "        qc.z(qubit)\n",
    "        qc.x(qubit)\n",
    "    else:\n",
    "        print(\"\\nInvalid Message, Sending '00'\\n\")"
   ]
  },
  {
   "cell_type": "code",
   "execution_count": 15,
   "id": "12710c67",
   "metadata": {},
   "outputs": [],
   "source": [
    "def decode_bob_message(qc,a,b):\n",
    "    qc.cx(a,b)\n",
    "    qc.h(a)"
   ]
  },
  {
   "cell_type": "code",
   "execution_count": 16,
   "id": "46518569",
   "metadata": {},
   "outputs": [],
   "source": [
    "qc = QuantumCircuit(2)\n",
    "\n",
    "create_bell_state(qc,0,1)\n",
    "qc.barrier()\n",
    "\n",
    "message = \"10\" #For Example\n",
    "\n",
    "encode_alice_message(qc,0,message)# Variable name 'previously used'\n",
    "qc.barrier()\n",
    "\n",
    "decode_bob_message(qc,0,1)\n",
    "\n",
    "qc.measure_all()"
   ]
  },
  {
   "cell_type": "code",
   "execution_count": 17,
   "id": "e9d50eb6",
   "metadata": {},
   "outputs": [
    {
     "data": {
      "image/png": "[encoded data removed]",
      "text/plain": [
       "<Figure size 718.879x204.68 with 1 Axes>"
      ]
     },
     "execution_count": 17,
     "metadata": {},
     "output_type": "execute_result"
    }
   ],
   "source": [
    "qc.draw('mpl')"
   ]
  },
  {
   "cell_type": "code",
   "execution_count": 18,
   "id": "636baa0c",
   "metadata": {},
   "outputs": [
    {
     "name": "stdout",
     "output_type": "stream",
     "text": [
      "\n",
      "Total count are:\n",
      " {'10': 1000}\n"
     ]
    },
    {
     "data": {
      "image/png": "[encoded data removed]",
      "text/plain": [
       "<Figure size 504x360 with 1 Axes>"
      ]
     },
     "execution_count": 18,
     "metadata": {},
     "output_type": "execute_result"
    }
   ],
   "source": [
    "backend = Aer.get_backend('qasm_simulator')\n",
    "job = execute(qc,backend,shots=1000)\n",
    "result = job.result()\n",
    "counts = result.get_counts(qc)\n",
    "print(\"\\nTotal count are:\\n\",counts)\n",
    "plot_histogram(counts)"
   ]
  }
 ],
 "metadata": {
  "kernelspec": {
   "display_name": "Python 3.8.8 64-bit (conda)",
   "language": "python",
   "name": "python388jvsc74a57bd08d7efc21e225caa70c6175a83cb3c864f8f2b3916652a4417a6be9e2c4b3a75f"
  },
  "language_info": {
   "codemirror_mode": {
    "name": "ipython",
    "version": 3
   },
   "file_extension": ".py",
   "mimetype": "text/x-python",
   "name": "python",
   "nbconvert_exporter": "python",
   "pygments_lexer": "ipython3",
   "version": "3.8.8"
  }
 },
 "nbformat": 4,
 "nbformat_minor": 5
}
